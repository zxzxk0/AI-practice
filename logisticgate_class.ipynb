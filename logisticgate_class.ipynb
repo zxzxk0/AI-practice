{
  "nbformat": 4,
  "nbformat_minor": 0,
  "metadata": {
    "colab": {
      "name": "logisticgate class.ipynb",
      "provenance": [],
      "collapsed_sections": []
    },
    "kernelspec": {
      "name": "python3",
      "display_name": "Python 3"
    },
    "language_info": {
      "name": "python"
    }
  },
  "cells": [
    {
      "cell_type": "code",
      "execution_count": null,
      "metadata": {
        "id": "c5kWh3y0DVS-"
      },
      "outputs": [],
      "source": [
        "import numpy as np\n",
        "\n",
        "# sigmoid 함수\n",
        "def sigmoid(x):\n",
        "    return 1 / (1+np.exp(-x))\n",
        "\n",
        "# 수치미분 함수\n",
        "def numerical_derivative(f, x):\n",
        "    delta_x = 1e-4 # 0.0001\n",
        "    grad = np.zeros_like(x)\n",
        "    \n",
        "    it = np.nditer(x, flags=['multi_index'], op_flags=['readwrite'])\n",
        "    \n",
        "    while not it.finished:\n",
        "        idx = it.multi_index        \n",
        "        tmp_val = x[idx]\n",
        "        x[idx] = float(tmp_val) + delta_x\n",
        "        fx1 = f(x) # f(x+delta_x)\n",
        "        \n",
        "        x[idx] = tmp_val - delta_x \n",
        "        fx2 = f(x) # f(x-delta_x)\n",
        "        grad[idx] = (fx1 - fx2) / (2*delta_x)\n",
        "        \n",
        "        x[idx] = tmp_val \n",
        "        it.iternext()   \n",
        "        \n",
        "    return grad"
      ]
    },
    {
      "cell_type": "code",
      "source": [
        "# LogicGate Class\n",
        "\n",
        "class LogicGate:\n",
        "    \n",
        "    def __init__(self, gate_name, xdata, tdata):  # xdata, tdata => numpy.array(...)\n",
        "        \n",
        "        self.name = gate_name\n",
        "        \n",
        "        # 입력 데이터, 정답 데이터 초기화 (0,0),(0,1),(1,0),(1,1)의 4행 2열의input과 0과 1로 구성된 4행1열의 output\n",
        "        self.__xdata = xdata.reshape(4,2)\n",
        "        self.__tdata = tdata.reshape(4,1)\n",
        "        \n",
        "        # 가중치 W, 바이어스 b 초기화\n",
        "        self.__W = np.random.rand(2,1)  # weight, 2 X 1 matrix\n",
        "        self.__b = np.random.rand(1)\n",
        "                        \n",
        "        # 학습률 learning rate 초기화\n",
        "        self.__learning_rate = 1e-2\n",
        "        \n",
        "    # 손실함수\n",
        "    def __loss_func(self):\n",
        "        \n",
        "        delta = 1e-7    # log 무한대 발산 방지\n",
        "    \n",
        "        z = np.dot(self.__xdata, self.__W) + self.__b\n",
        "        y = sigmoid(z)\n",
        "    \n",
        "        # cross-entropy \n",
        "        return  -np.sum( self.__tdata*np.log(y + delta) + (1-self.__tdata)*np.log((1 - y)+delta ) )      \n",
        "    \n",
        "    # 손실 값 계산\n",
        "    def error_val(self):\n",
        "        \n",
        "        delta = 1e-7    # log 무한대 발산 방지\n",
        "    \n",
        "        z = np.dot(self.__xdata, self.__W) + self.__b\n",
        "        y = sigmoid(z)\n",
        "    \n",
        "        # cross-entropy \n",
        "        return  -np.sum( self.__tdata*np.log(y + delta) + (1-self.__tdata)*np.log((1 - y)+delta ) )\n",
        "\n",
        "    # 수치미분을 이용하여 손실함수가 최소가 될때 까지 학습하는 함수\n",
        "    def train(self):\n",
        "        \n",
        "        f = lambda x : self.__loss_func()\n",
        "        \n",
        "        print(\"Initial error value = \", self.error_val())\n",
        "        \n",
        "        for step in  range(8001):\n",
        "            \n",
        "            self.__W -= self.__learning_rate * numerical_derivative(f, self.__W)\n",
        "    \n",
        "            self.__b -= self.__learning_rate * numerical_derivative(f, self.__b)\n",
        "    \n",
        "            if (step % 400 == 0):\n",
        "                print(\"step = \", step, \"error value = \", self.error_val())\n",
        "                \n",
        "                \n",
        "    # 미래 값 예측 함수\n",
        "    def predict(self, input_data):\n",
        "        \n",
        "        z = np.dot(input_data, self.__W) + self.__b\n",
        "        y = sigmoid(z)\n",
        "    \n",
        "        if y > 0.5:\n",
        "            result = 1  # True\n",
        "        else:\n",
        "            result = 0  # False\n",
        "    \n",
        "        return y, result"
      ],
      "metadata": {
        "id": "1OfkCTQlDWug"
      },
      "execution_count": null,
      "outputs": []
    },
    {
      "cell_type": "code",
      "source": [
        "xdata = np.array([ [0, 0], [0, 1], [1, 0], [1, 1] ])\n",
        "tdata = np.array([0, 0, 0, 1])\n",
        "\n",
        "AND_obj = LogicGate(\"AND_GATE\", xdata, tdata)\n",
        "\n",
        "AND_obj.train()"
      ],
      "metadata": {
        "colab": {
          "base_uri": "https://localhost:8080/"
        },
        "id": "Qou6pBM5DZ2k",
        "outputId": "4dc6d98e-84c5-41b3-de73-8af56d0786ef"
      },
      "execution_count": null,
      "outputs": [
        {
          "output_type": "stream",
          "name": "stdout",
          "text": [
            "Initial error value =  3.987038512748805\n",
            "step =  0 error value =  3.9466031656940155\n",
            "step =  400 error value =  1.6426623751335732\n",
            "step =  800 error value =  1.195825859373978\n",
            "step =  1200 error value =  0.9516064417789442\n",
            "step =  1600 error value =  0.793630142258192\n",
            "step =  2000 error value =  0.6814503943457884\n",
            "step =  2400 error value =  0.5970742706551513\n",
            "step =  2800 error value =  0.5310849338998664\n",
            "step =  3200 error value =  0.4779860298778641\n",
            "step =  3600 error value =  0.43431473607007454\n",
            "step =  4000 error value =  0.3977639296545337\n",
            "step =  4400 error value =  0.3667296393575742\n",
            "step =  4800 error value =  0.3400587294355044\n",
            "step =  5200 error value =  0.31689935139918857\n",
            "step =  5600 error value =  0.296607876451389\n",
            "step =  6000 error value =  0.2786886320225056\n",
            "step =  6400 error value =  0.26275357397545207\n",
            "step =  6800 error value =  0.24849454007625196\n",
            "step =  7200 error value =  0.23566370077303955\n",
            "step =  7600 error value =  0.2240594988499267\n",
            "step =  8000 error value =  0.21351635248146666\n"
          ]
        }
      ]
    },
    {
      "cell_type": "code",
      "source": [
        "# AND Gate prediction\n",
        "print(AND_obj.name, \"\\n\")\n",
        "\n",
        "test_data = np.array([ [0, 0], [0, 1], [1, 0], [1, 1] ])\n",
        "\n",
        "for input_data in test_data:\n",
        "    (sigmoid_val, logical_val) = AND_obj.predict(input_data) \n",
        "    print(input_data, \" = \", logical_val, \"\\n\")  "
      ],
      "metadata": {
        "colab": {
          "base_uri": "https://localhost:8080/"
        },
        "id": "H_8JVDfuDa-m",
        "outputId": "1b94e979-617f-4a3b-a3b2-b1927c11ae4e"
      },
      "execution_count": null,
      "outputs": [
        {
          "output_type": "stream",
          "name": "stdout",
          "text": [
            "AND_GATE \n",
            "\n",
            "[0 0]  =  0 \n",
            "\n",
            "[0 1]  =  0 \n",
            "\n",
            "[1 0]  =  0 \n",
            "\n",
            "[1 1]  =  1 \n",
            "\n"
          ]
        }
      ]
    },
    {
      "cell_type": "code",
      "source": [
        "xdata = np.array([ [0, 0], [0, 1], [1, 0], [1, 1] ])\n",
        "tdata = np.array([0, 1, 1, 1])\n",
        "\n",
        "OR_obj = LogicGate(\"OR_GATE\", xdata, tdata)\n",
        "\n",
        "OR_obj.train() "
      ],
      "metadata": {
        "colab": {
          "base_uri": "https://localhost:8080/"
        },
        "id": "Xkt3ha4SDb7n",
        "outputId": "fa483c1b-1094-4e74-de3c-6ef506912b4f"
      },
      "execution_count": null,
      "outputs": [
        {
          "output_type": "stream",
          "name": "stdout",
          "text": [
            "Initial error value =  1.6703984777226943\n",
            "step =  0 error value =  1.6677323073450019\n",
            "step =  400 error value =  1.0723956520151254\n",
            "step =  800 error value =  0.7825726761777614\n",
            "step =  1200 error value =  0.6107581064993716\n",
            "step =  1600 error value =  0.4980222177814862\n",
            "step =  2000 error value =  0.41881850521651964\n",
            "step =  2400 error value =  0.3603850864660594\n",
            "step =  2800 error value =  0.31565394623147097\n",
            "step =  3200 error value =  0.280405160451939\n",
            "step =  3600 error value =  0.25197102423189666\n",
            "step =  4000 error value =  0.2285870493955952\n",
            "step =  4400 error value =  0.20904230393045348\n",
            "step =  4800 error value =  0.19247979185005554\n",
            "step =  5200 error value =  0.17827696894898182\n",
            "step =  5600 error value =  0.16597133859557064\n",
            "step =  6000 error value =  0.15521253209113126\n",
            "step =  6400 error value =  0.14573053499286198\n",
            "step =  6800 error value =  0.13731407650707436\n",
            "step =  7200 error value =  0.12979559759860132\n",
            "step =  7600 error value =  0.12304058425232699\n",
            "step =  8000 error value =  0.116939861671266\n"
          ]
        }
      ]
    },
    {
      "cell_type": "code",
      "source": [
        "# OR Gate prediction\n",
        "print(OR_obj.name, \"\\n\")\n",
        "\n",
        "test_data = np.array([ [0, 0], [0, 1], [1, 0], [1, 1] ])\n",
        "\n",
        "for input_data in test_data:\n",
        "    (sigmoid_val, logical_val) = OR_obj.predict(input_data) \n",
        "    print(input_data, \" = \", logical_val, \"\\n\")  "
      ],
      "metadata": {
        "colab": {
          "base_uri": "https://localhost:8080/"
        },
        "id": "bGlnWdV7DdS4",
        "outputId": "fcefe98e-08c6-4749-a320-296bb20727b8"
      },
      "execution_count": null,
      "outputs": [
        {
          "output_type": "stream",
          "name": "stdout",
          "text": [
            "OR_GATE \n",
            "\n",
            "[0 0]  =  0 \n",
            "\n",
            "[0 1]  =  1 \n",
            "\n",
            "[1 0]  =  1 \n",
            "\n",
            "[1 1]  =  1 \n",
            "\n"
          ]
        }
      ]
    },
    {
      "cell_type": "code",
      "source": [
        "xdata = np.array([ [0, 0], [0, 1], [1, 0], [1, 1] ])\n",
        "tdata = np.array([1, 1, 1, 0])\n",
        "\n",
        "NAND_obj = LogicGate(\"NAND_GATE\", xdata, tdata)\n",
        "\n",
        "NAND_obj.train()"
      ],
      "metadata": {
        "colab": {
          "base_uri": "https://localhost:8080/"
        },
        "id": "X-jctQJmDeW5",
        "outputId": "a9cccff1-e0bc-4725-cd2d-52ebeb52adb1"
      },
      "execution_count": null,
      "outputs": [
        {
          "output_type": "stream",
          "name": "stdout",
          "text": [
            "Initial error value =  2.9957371317981405\n",
            "step =  0 error value =  2.9889391115376993\n",
            "step =  400 error value =  1.696399525377627\n",
            "step =  800 error value =  1.2212374189739328\n",
            "step =  1200 error value =  0.9668511048525243\n",
            "step =  1600 error value =  0.8040082913611433\n",
            "step =  2000 error value =  0.6890522865686606\n",
            "step =  2400 error value =  0.6029117196593836\n",
            "step =  2800 error value =  0.5357187103957677\n",
            "step =  3200 error value =  0.4817569146486024\n",
            "step =  3600 error value =  0.43744385217715354\n",
            "step =  4000 error value =  0.4004019259285396\n",
            "step =  4400 error value =  0.3689830933276611\n",
            "step =  4800 error value =  0.34200534402333604\n",
            "step =  5200 error value =  0.31859719387794994\n",
            "step =  5600 error value =  0.2981012480000017\n",
            "step =  6000 error value =  0.280011933747239\n",
            "step =  6400 error value =  0.26393393128182296\n",
            "step =  6800 error value =  0.24955363041542736\n",
            "step =  7200 error value =  0.236619054995984\n",
            "step =  7600 error value =  0.2249254457889576\n",
            "step =  8000 error value =  0.21430471631121684\n"
          ]
        }
      ]
    },
    {
      "cell_type": "code",
      "source": [
        "# NAND Gate prediction\n",
        "print(NAND_obj.name, \"\\n\")\n",
        "\n",
        "test_data = np.array([ [0, 0], [0, 1], [1, 0], [1, 1] ])\n",
        "\n",
        "for input_data in test_data:\n",
        "    (sigmoid_val, logical_val) = NAND_obj.predict(input_data) \n",
        "    print(input_data, \" = \", logical_val, \"\\n\")  "
      ],
      "metadata": {
        "colab": {
          "base_uri": "https://localhost:8080/"
        },
        "id": "siI0gSxPDfeu",
        "outputId": "fe10b5ec-82a5-4910-a8a3-5c5641e86902"
      },
      "execution_count": null,
      "outputs": [
        {
          "output_type": "stream",
          "name": "stdout",
          "text": [
            "NAND_GATE \n",
            "\n",
            "[0 0]  =  1 \n",
            "\n",
            "[0 1]  =  1 \n",
            "\n",
            "[1 0]  =  1 \n",
            "\n",
            "[1 1]  =  0 \n",
            "\n"
          ]
        }
      ]
    },
    {
      "cell_type": "code",
      "source": [
        "xdata = np.array([ [0, 0], [0, 1], [1, 0], [1, 1] ])\n",
        "tdata = np.array([0, 1, 1, 0])\n",
        "\n",
        "\n",
        "XOR_obj = LogicGate(\"XOR_GATE\", xdata, tdata)\n",
        "\n",
        "# XOR Gate 를 보면, 손실함수 값이 2.7 근처에서 더 이상 감소하지 않는것을 볼수 있음\n",
        "XOR_obj.train()"
      ],
      "metadata": {
        "colab": {
          "base_uri": "https://localhost:8080/"
        },
        "id": "vGukZmFHDgjE",
        "outputId": "5d66d1f6-09a9-44aa-8b84-36b76505c59b"
      },
      "execution_count": null,
      "outputs": [
        {
          "output_type": "stream",
          "name": "stdout",
          "text": [
            "Initial error value =  3.3446036947181117\n",
            "step =  0 error value =  3.3294069305648124\n",
            "step =  400 error value =  2.773017520799639\n",
            "step =  800 error value =  2.772646044662149\n",
            "step =  1200 error value =  2.7725958718724355\n",
            "step =  1600 error value =  2.7725890246375267\n",
            "step =  2000 error value =  2.7725880793413142\n",
            "step =  2400 error value =  2.7725879457951237\n",
            "step =  2800 error value =  2.772587926084955\n",
            "step =  3200 error value =  2.7725879229474715\n",
            "step =  3600 error value =  2.7725879223888215\n",
            "step =  4000 error value =  2.7725879222751155\n",
            "step =  4400 error value =  2.772587922248913\n",
            "step =  4800 error value =  2.7725879222422996\n",
            "step =  5200 error value =  2.772587922240535\n",
            "step =  5600 error value =  2.7725879222400502\n",
            "step =  6000 error value =  2.7725879222399143\n",
            "step =  6400 error value =  2.7725879222398766\n",
            "step =  6800 error value =  2.7725879222398655\n",
            "step =  7200 error value =  2.772587922239863\n",
            "step =  7600 error value =  2.7725879222398615\n",
            "step =  8000 error value =  2.772587922239862\n"
          ]
        }
      ]
    },
    {
      "cell_type": "code",
      "source": [
        "# XOR Gate prediction => 예측이 되지 않음\n",
        "print(XOR_obj.name, \"\\n\")\n",
        "\n",
        "test_data = np.array([ [0, 0], [0, 1], [1, 0], [1, 1] ])\n",
        "\n",
        "for input_data in test_data:\n",
        "    (sigmoid_val, logical_val) = XOR_obj.predict(input_data) \n",
        "    print(input_data, \" = \", logical_val, \"\\n\")  "
      ],
      "metadata": {
        "colab": {
          "base_uri": "https://localhost:8080/"
        },
        "id": "BBcN3OtoDhZo",
        "outputId": "452fe28a-d886-48fc-db31-ad69ae7bfc64"
      },
      "execution_count": null,
      "outputs": [
        {
          "output_type": "stream",
          "name": "stdout",
          "text": [
            "XOR_GATE \n",
            "\n",
            "[0 0]  =  1 \n",
            "\n",
            "[0 1]  =  1 \n",
            "\n",
            "[1 0]  =  1 \n",
            "\n",
            "[1 1]  =  0 \n",
            "\n"
          ]
        }
      ]
    },
    {
      "cell_type": "code",
      "source": [
        "# XOR 을 NAND + OR => AND 조합으로 계산함\n",
        "input_data = np.array([ [0, 0], [0, 1], [1, 0], [1, 1] ])\n",
        "\n",
        "s1 = []    # NAND 출력\n",
        "s2 = []    # OR 출력\n",
        "\n",
        "new_input_data = []  # AND 입력\n",
        "final_output = []    # AND 출력\n",
        "\n",
        "for index in range(len(input_data)):\n",
        "    \n",
        "    s1 = NAND_obj.predict(input_data[index])  # NAND 출력\n",
        "    s2 = OR_obj.predict(input_data[index])    # OR 출력\n",
        "    \n",
        "    new_input_data.append(s1[-1])    # AND 입력\n",
        "    new_input_data.append(s2[-1])    # AND 입력\n",
        "    \n",
        "    (sigmoid_val, logical_val) = AND_obj.predict(np.array(new_input_data))\n",
        "    \n",
        "    final_output.append(logical_val)    # AND 출력, 즉 XOR 출력    \n",
        "    new_input_data = []    # AND 입력 초기화\n",
        "\n",
        "\n",
        "for index in range(len(input_data)):    \n",
        "    print(input_data[index], \" = \", final_output[index], end='')\n",
        "    print(\"\\n\")"
      ],
      "metadata": {
        "colab": {
          "base_uri": "https://localhost:8080/"
        },
        "id": "_wso-s8mDir6",
        "outputId": "aa92d7fc-6a29-402e-96f1-f0dde94f2021"
      },
      "execution_count": null,
      "outputs": [
        {
          "output_type": "stream",
          "name": "stdout",
          "text": [
            "[0 0]  =  0\n",
            "\n",
            "[0 1]  =  1\n",
            "\n",
            "[1 0]  =  1\n",
            "\n",
            "[1 1]  =  0\n",
            "\n"
          ]
        }
      ]
    },
    {
      "cell_type": "code",
      "source": [
        ""
      ],
      "metadata": {
        "id": "rCdKvhnqDjqn"
      },
      "execution_count": null,
      "outputs": []
    }
  ]
}