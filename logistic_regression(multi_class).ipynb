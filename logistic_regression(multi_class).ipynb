{
  "nbformat": 4,
  "nbformat_minor": 0,
  "metadata": {
    "colab": {
      "name": "logistic regression(multi class).ipynb",
      "provenance": []
    },
    "kernelspec": {
      "name": "python3",
      "display_name": "Python 3"
    },
    "language_info": {
      "name": "python"
    }
  },
  "cells": [
    {
      "cell_type": "code",
      "execution_count": null,
      "metadata": {
        "colab": {
          "base_uri": "https://localhost:8080/"
        },
        "id": "mspG7EAdxDm2",
        "outputId": "9df1b893-3bbf-49c6-9a10-20bc6bf07e1a"
      },
      "outputs": [
        {
          "output_type": "stream",
          "name": "stdout",
          "text": [
            "x_data.ndim =  2 , x_data.shape =  (9, 2)\n",
            "t_data.ndim =  2 , t_data.shape =  (9, 1)\n"
          ]
        }
      ],
      "source": [
        "# x_data = (예습시간, 복습시간)\n",
        "# t_data = 1 (Pass), 0 (Fail)\n",
        "\n",
        "import numpy as np\n",
        "\n",
        "x_data = np.array([ [2, 4], [4, 11], [6, 6], [8, 5], [10, 7], [12, 16], [14, 8], [16, 3], [18, 7] ])\n",
        "t_data = np.array([0, 0, 0, 0, 1, 1, 1, 1, 1]).reshape(9, 1)\n",
        "\n",
        "# 데이터 차원 및 shape 확인\n",
        "print(\"x_data.ndim = \", x_data.ndim, \", x_data.shape = \", x_data.shape)\n",
        "print(\"t_data.ndim = \", t_data.ndim, \", t_data.shape = \", t_data.shape) "
      ]
    },
    {
      "cell_type": "code",
      "source": [
        "W = np.random.rand(2, 1)  # 2X1 행렬\n",
        "b = np.random.rand(1)  \n",
        "print(\"W = \", W, \", W.shape = \", W.shape, \", b = \", b, \", b.shape = \", b.shape)"
      ],
      "metadata": {
        "colab": {
          "base_uri": "https://localhost:8080/"
        },
        "id": "6Js9904rxVs7",
        "outputId": "afebd935-3f15-4caf-9fad-69067d11839b"
      },
      "execution_count": null,
      "outputs": [
        {
          "output_type": "stream",
          "name": "stdout",
          "text": [
            "W =  [[0.71194891]\n",
            " [0.65587387]] , W.shape =  (2, 1) , b =  [0.94694064] , b.shape =  (1,)\n"
          ]
        }
      ]
    },
    {
      "cell_type": "code",
      "source": [
        "# classification 이므로 출력함수로 sigmoid 정의\n",
        "\n",
        "def sigmoid(x):\n",
        "    return 1 / (1+np.exp(-x))"
      ],
      "metadata": {
        "id": "HJ6aeI4YxWw0"
      },
      "execution_count": null,
      "outputs": []
    },
    {
      "cell_type": "code",
      "source": [
        "# 최종출력은 y = sigmoid(Wx+b) 이며, 손실함수는 cross-entropy 로 나타냄\n",
        "\n",
        "def loss_func(x, t):\n",
        "    \n",
        "    delta = 1e-7    # log 무한대 발산 방지\n",
        "    \n",
        "    z = np.dot(x,W) + b\n",
        "    y = sigmoid(z)\n",
        "    \n",
        "    # cross-entropy \n",
        "    return  -np.sum( t*np.log(y + delta) + (1-t)*np.log((1 - y)+delta ) )  "
      ],
      "metadata": {
        "id": "EOx5phq7xYDL"
      },
      "execution_count": null,
      "outputs": []
    },
    {
      "cell_type": "code",
      "source": [
        "def numerical_derivative(f, x):\n",
        "    delta_x = 1e-4 # 0.0001\n",
        "    grad = np.zeros_like(x)\n",
        "    \n",
        "    it = np.nditer(x, flags=['multi_index'], op_flags=['readwrite'])\n",
        "    \n",
        "    while not it.finished:\n",
        "        idx = it.multi_index        \n",
        "        tmp_val = x[idx]\n",
        "        x[idx] = float(tmp_val) + delta_x\n",
        "        fx1 = f(x) # f(x+delta_x)\n",
        "        \n",
        "        x[idx] = tmp_val - delta_x \n",
        "        fx2 = f(x) # f(x-delta_x)\n",
        "        grad[idx] = (fx1 - fx2) / (2*delta_x)\n",
        "        \n",
        "        x[idx] = tmp_val \n",
        "        it.iternext()   \n",
        "        \n",
        "    return grad"
      ],
      "metadata": {
        "id": "C2TuAyg6xY9J"
      },
      "execution_count": null,
      "outputs": []
    },
    {
      "cell_type": "code",
      "source": [
        "def error_val(x, t):\n",
        "    delta = 1e-7    # log 무한대 발산 방지\n",
        "    \n",
        "    z = np.dot(x,W) + b\n",
        "    y = sigmoid(z)\n",
        "    \n",
        "    # cross-entropy \n",
        "    return  -np.sum( t*np.log(y + delta) + (1-t)*np.log((1 - y)+delta ) )  \n",
        "\n",
        "def predict(x):\n",
        "    \n",
        "    z = np.dot(x,W) + b\n",
        "    y = sigmoid(z)\n",
        "    \n",
        "    if y > 0.5:\n",
        "        result = 1  # True\n",
        "    else:\n",
        "        result = 0  # False\n",
        "    \n",
        "    return y, result"
      ],
      "metadata": {
        "id": "SPC90ZHQxZ06"
      },
      "execution_count": null,
      "outputs": []
    },
    {
      "cell_type": "code",
      "source": [
        "learning_rate = 1e-2  # 1e-2, 1e-3 은 손실함수 값 발산\n",
        "\n",
        "f = lambda x : loss_func(x_data,t_data)\n",
        "\n",
        "print(\"Initial error value = \", error_val(x_data, t_data), \"Initial W = \", W, \"\\n\", \", b = \", b )\n",
        "\n",
        "for step in  range(80001):  \n",
        "    \n",
        "    W -= learning_rate * numerical_derivative(f, W)\n",
        "    \n",
        "    b -= learning_rate * numerical_derivative(f, b)\n",
        "    \n",
        "    if (step % 400 == 0):\n",
        "        print(\"step = \", step, \"error value = \", error_val(x_data, t_data), \"W = \", W, \", b = \",b )"
      ],
      "metadata": {
        "id": "CpflTxGwxapj"
      },
      "execution_count": null,
      "outputs": []
    },
    {
      "cell_type": "code",
      "source": [
        "test_data = np.array([3, 17]) # (예습, 복습) = (3, 17) => Fail (0)\n",
        "predict(test_data) "
      ],
      "metadata": {
        "colab": {
          "base_uri": "https://localhost:8080/"
        },
        "id": "a0LHIBb2xcI4",
        "outputId": "e43984ac-c3d5-41a6-b654-68221cef2352"
      },
      "execution_count": null,
      "outputs": [
        {
          "output_type": "execute_result",
          "data": {
            "text/plain": [
              "(array([0.12862161]), 0)"
            ]
          },
          "metadata": {},
          "execution_count": 8
        }
      ]
    },
    {
      "cell_type": "code",
      "source": [
        "test_data = np.array([5, 8]) # (예습, 복습) = (5, 8) => Fail (0)\n",
        "\n",
        "predict(test_data) "
      ],
      "metadata": {
        "colab": {
          "base_uri": "https://localhost:8080/"
        },
        "id": "bPh9M4fGxeBP",
        "outputId": "06847095-0101-4733-8754-09bf17ee05e9"
      },
      "execution_count": null,
      "outputs": [
        {
          "output_type": "execute_result",
          "data": {
            "text/plain": [
              "(array([0.00099109]), 0)"
            ]
          },
          "metadata": {},
          "execution_count": 9
        }
      ]
    },
    {
      "cell_type": "code",
      "source": [
        "test_data = np.array([7, 21]) # (예습, 복습) = (7, 21) => Pass (1)\n",
        "\n",
        "predict(test_data) "
      ],
      "metadata": {
        "colab": {
          "base_uri": "https://localhost:8080/"
        },
        "id": "y6vHusDVxeuC",
        "outputId": "41da9ebe-b22e-4f68-bff6-f8d48116caed"
      },
      "execution_count": null,
      "outputs": [
        {
          "output_type": "execute_result",
          "data": {
            "text/plain": [
              "(array([0.99998952]), 1)"
            ]
          },
          "metadata": {},
          "execution_count": 10
        }
      ]
    },
    {
      "cell_type": "code",
      "source": [
        "test_data = np.array([12, 0])  # (예습, 복습) = (12, 0) => Pass (1)\n",
        "\n",
        "predict(test_data) "
      ],
      "metadata": {
        "colab": {
          "base_uri": "https://localhost:8080/"
        },
        "id": "SmnhixOpxfho",
        "outputId": "bb4da13f-59c9-449c-916a-c85d4eb123da"
      },
      "execution_count": null,
      "outputs": [
        {
          "output_type": "execute_result",
          "data": {
            "text/plain": [
              "(array([0.63508017]), 1)"
            ]
          },
          "metadata": {},
          "execution_count": 11
        }
      ]
    }
  ]
}